{
 "cells": [
  {
   "cell_type": "code",
   "execution_count": 3,
   "metadata": {},
   "outputs": [],
   "source": [
    "import numpy as np\n",
    "import scipy.stats as ss \n",
    "import pandas as pd \n",
    "import matplotlib.pyplot as plt \n",
    "%matplotlib inline"
   ]
  },
  {
   "cell_type": "code",
   "execution_count": null,
   "metadata": {},
   "outputs": [],
   "source": []
  },
  {
   "cell_type": "markdown",
   "metadata": {},
   "source": [
    "# Hypothesis Testing\n",
    "1. Define $H_0$ and $H_1$, aka the *null hypothesis* and the *alternate hypothesis*.\n",
    "2. Assume $H_0$ to be true\n",
    "3. Compute a **test statistic** to assess the strength of the evidence against $H_0$.\n",
    "4. Compute the **P-value** of the test statistic, aka the observed significance level.\n",
    "5. State a conclusion about the strength of the evidence against $H_0$."
   ]
  },
  {
   "cell_type": "markdown",
   "metadata": {},
   "source": [
    "## Large sample tests for a population (n>30)"
   ]
  },
  {
   "cell_type": "markdown",
   "metadata": {},
   "source": [
    "Let $X_1 \\dots X_n$ be a large (e.g. n>30) sample from a population with mean $\\mu$ and standard deviation $\\sigma$.   \n",
    "To test a null hypothesis of the form $H_0:\\mu\\leq\\mu_0$, $H_0:\\mu\\geq\\mu_0$, or $H_0:\\mu=\\mu_0$  \n",
    "  \n",
    "Compute the z-score: $z=\\frac{\\bar{X}-\\mu_0}{\\sigma/\\sqrt{n}}$  \n",
    "If $\\sigma$ is unknown it may be approximated with $s$.  \n",
    "  \n",
    "Compute the P-value. The P-value is the area under the normal curve (the statistical test for large populations) which depends on the alternative hypothesis as follows:  \n",
    "\n",
    "| Alternate Hypothesis | P-value   |\n",
    "|------|------|\n",
    "|   $H_1:\\mu>\\mu_0$  | Area to the right of z|\n",
    "|   $H_1:\\mu<\\mu_0$  | Area to the left of z|\n",
    "|   $H_1:\\mu\\neq\\mu_0$  | Sum of the areas in the tails cut off by z and -z|\n"
   ]
  },
  {
   "cell_type": "markdown",
   "metadata": {},
   "source": [
    "### Example of area to the left of z\n",
    "45 ball bearings are sampled for wear (a reduction in diameter of the ball). The average wear (on the 45 samples) reduced the diameter by $673\\mu m$ with a standard deviation of $14.9\\mu m$. Assume the specification requires the mean wear to be less than $675\\mu m$.  \n",
    "Find the P-value for testing $H_0:\\mu\\geq675$ versus $H_1:\\mu<675$ \n",
    "  \n",
    "  \n",
    "Therefore $\\bar{X} = 673.5$ and $s=14.9$."
   ]
  },
  {
   "cell_type": "markdown",
   "metadata": {},
   "source": [
    "#### First calculate the z-score"
   ]
  },
  {
   "cell_type": "code",
   "execution_count": 6,
   "metadata": {},
   "outputs": [
    {
     "name": "stdout",
     "output_type": "stream",
     "text": [
      "The z-score is:  -0.900430058054\n"
     ]
    }
   ],
   "source": [
    "n = 45\n",
    "mu_0 = 675\n",
    "x_bar = 673\n",
    "s = 14.9\n",
    "z_score = (x_bar-mu_0)/(s/np.sqrt(n))\n",
    "print('The z-score is: ', z_score)"
   ]
  },
  {
   "cell_type": "markdown",
   "metadata": {},
   "source": [
    "#### Calculate the P-value"
   ]
  },
  {
   "cell_type": "code",
   "execution_count": 7,
   "metadata": {},
   "outputs": [
    {
     "name": "stdout",
     "output_type": "stream",
     "text": [
      "The p-value is:  0.183945715388\n"
     ]
    }
   ],
   "source": [
    "p_value = ss.norm.sf(abs(z_score))\n",
    "print('The p-value is: ', p_value)"
   ]
  },
  {
   "cell_type": "markdown",
   "metadata": {},
   "source": [
    "Therefore if $H_0$ is true, there is a 20.9% chance to observe a sample whose disagreement with $H_0$ is as least as great as that which was actually observed. Since 0.209 isn't small, we do not reject $H_0$. Therefore we conclude that $H_0$ is plausible. (We are not concluding that $H_0$ is \"true\", just plausible)."
   ]
  },
  {
   "cell_type": "code",
   "execution_count": 8,
   "metadata": {},
   "outputs": [],
   "source": [
    "def left_tail_plot(nd,X,mean,sd):\n",
    "    \n",
    "    x = np.linspace(mean-4*sd, mean+4*sd, 5000)\n",
    "    y_cdf = ss.norm.pdf(x,mean, sd)\n",
    "    plt.plot(x, y_cdf, label='cdf')\n",
    "    if X < mean:\n",
    "        lo = mean-4*sd\n",
    "        hi = X\n",
    "        lo2 = (mean-X)+mean\n",
    "        hi2 = mean+4*sd\n",
    "    else:\n",
    "        lo = mean-4*sd\n",
    "        hi = (mean-X)+mean\n",
    "        lo2 = X\n",
    "        hi2 = mean+4*sd\n",
    "    x = np.linspace(lo, hi, 5000)\n",
    "    x2 = np.linspace(lo2, hi2, 5000)\n",
    "    plt.fill_between(x, nd.pdf(x), y2=0, where= x >= lo , \\\n",
    "                     interpolate=False, \\\n",
    "                     color='blue', alpha = 0.2)"
   ]
  },
  {
   "cell_type": "code",
   "execution_count": 9,
   "metadata": {},
   "outputs": [
    {
     "data": {
      "image/png": "[encoded data removed]",
      "text/plain": [
       "<matplotlib.figure.Figure at 0x17afc1e8f28>"
      ]
     },
     "metadata": {},
     "output_type": "display_data"
    }
   ],
   "source": [
    "nd = ss.norm(mu_0, s)\n",
    "left_tail_plot(nd,x_bar,mu_0,s)\n",
    "plt.axvline(x=mu_0, color='r')\n",
    "plt.annotate(mu_0, (mu_0,0),color='r')\n",
    "plt.axvline(x=x_bar, color='b')\n",
    "plt.annotate(x_bar, (x_bar-12,0),color='b')\n",
    "txt = 'P-value = ' + str(round(p_value,3))\n",
    "txt2 = 'z-score = ' + str(round(z_score,3))\n",
    "plt.annotate(txt, (620,0.02))\n",
    "plt.annotate(txt2, (620,0.018))\n",
    "plt.show()"
   ]
  },
  {
   "cell_type": "markdown",
   "metadata": {},
   "source": [
    "### Example of Between Tails"
   ]
  },
  {
   "cell_type": "markdown",
   "metadata": {},
   "source": [
    "A scale is to be calibrated by weighing a 1000g test weight 60 times. The 60 readings have a mean of 1000.6g and standard deviation of 2g.  \n",
    "Find the P-value for testing $H_0:\\mu=1000$ versus $H_1:\\mu\\neq1000$  \n",
    "We assume that 1000g is the population mean, and therefore we want to prove that values much larger or much smaller than the mean would provide evidence agains $H_0$ being true."
   ]
  },
  {
   "cell_type": "markdown",
   "metadata": {},
   "source": [
    "#### Calculate z-score"
   ]
  },
  {
   "cell_type": "code",
   "execution_count": 10,
   "metadata": {},
   "outputs": [
    {
     "name": "stdout",
     "output_type": "stream",
     "text": [
      "The z-score is:  2.32379000772\n"
     ]
    }
   ],
   "source": [
    "n = 60\n",
    "mu_0 = 1000\n",
    "x_bar = 1000.6\n",
    "s = 2\n",
    "z_score = (x_bar-mu_0)/(s/np.sqrt(n))\n",
    "print('The z-score is: ', z_score)"
   ]
  },
  {
   "cell_type": "markdown",
   "metadata": {},
   "source": [
    "#### Calculate P-value"
   ]
  },
  {
   "cell_type": "code",
   "execution_count": 14,
   "metadata": {},
   "outputs": [
    {
     "name": "stdout",
     "output_type": "stream",
     "text": [
      "The p-value is:  0.0100683757752\n"
     ]
    }
   ],
   "source": [
    "p_value = ss.norm.sf(abs(z_score))\n",
    "print('The p-value is: ', p_value)"
   ]
  },
  {
   "cell_type": "markdown",
   "metadata": {},
   "source": [
    "#### However this is a two tail\n",
    "Calculate both tails (2 x p-value)"
   ]
  },
  {
   "cell_type": "code",
   "execution_count": 15,
   "metadata": {},
   "outputs": [
    {
     "name": "stdout",
     "output_type": "stream",
     "text": [
      "The p-value is:  0.0201367515503\n"
     ]
    }
   ],
   "source": [
    "p_value = 2*p_value\n",
    "print('The p-value is: ', p_value)"
   ]
  },
  {
   "cell_type": "markdown",
   "metadata": {},
   "source": [
    "Therefore there is a 0.02 probability that the result is as extreme or more extreme than the value observed. The evidence against $H_0$ is pretty strong (p<0.05), so it must be rejected and the scale would need to be recalibrated."
   ]
  },
  {
   "cell_type": "code",
   "execution_count": 35,
   "metadata": {},
   "outputs": [],
   "source": [
    "def two_tails_plot(nd,X,mean,sd):\n",
    "    \n",
    "    x = np.linspace(mean-3*sd, mean+3*sd, 5000)\n",
    "    y_cdf = ss.norm.pdf(x,mean, sd)\n",
    "    plt.plot(x, y_cdf, label='cdf')\n",
    "    if X < mean:\n",
    "        lo = mean-3*sd\n",
    "        hi = X\n",
    "        lo2 = (mean-X)+mean\n",
    "        hi2 = mean+3*sd\n",
    "    else:\n",
    "        lo = mean-3*sd\n",
    "        hi = (mean-X)+mean\n",
    "        lo2 = X\n",
    "        hi2 = mean+3*sd\n",
    "    x = np.linspace(lo, hi, 5000)\n",
    "    x2 = np.linspace(lo2, hi2, 5000)\n",
    "    plt.fill_between(x, nd.pdf(x), y2=0, where= x >= lo , \\\n",
    "                     interpolate=False, \\\n",
    "                     color='blue', alpha = 0.2)\n",
    "    plt.fill_between(x2, nd.pdf(x2), y2=0, where= x2 >= lo2 , \\\n",
    "                     interpolate=False, \\\n",
    "                     color='blue', alpha = 0.2)"
   ]
  },
  {
   "cell_type": "code",
   "execution_count": 36,
   "metadata": {},
   "outputs": [
    {
     "data": {
      "image/png": "[encoded data removed]",
      "text/plain": [
       "<matplotlib.figure.Figure at 0x17afc6c8860>"
      ]
     },
     "metadata": {},
     "output_type": "display_data"
    }
   ],
   "source": [
    "nd = ss.norm(mu_0, s)\n",
    "two_tails_plot(nd,x_bar,mu_0,s)\n",
    "txt = 'P-value = ' + str(round(p_value,3))\n",
    "txt2 = 'z-score = ' + str(round(z_score,3))\n",
    "#plt.xlim(999.4, 1000.6)     # set the xlim to left, right\n",
    "plt.axvline(x=x_bar, color='b')\n",
    "plt.axvline(x=mu_0-(x_bar-mu_0), color='b')\n",
    "txt = 'P-value = ' + str(round(p_value,3))\n",
    "txt2 = 'z-score = ' + str(round(z_score,3))\n",
    "plt.annotate(txt, (995,0.175))\n",
    "plt.annotate(txt2, (995,0.185))\n",
    "plt.show()"
   ]
  },
  {
   "cell_type": "markdown",
   "metadata": {},
   "source": [
    "## Test for a Population Proportion"
   ]
  },
  {
   "cell_type": "markdown",
   "metadata": {},
   "source": [
    "Let $X$ be the number of successes in $n$ independent Bernoulli Trials each with success probability $p$, i.e. $X~Bin(n,p)$.   \n",
    "To test a null hypothesis of the form $H_0:p\\leq p_0$, $H_0:p\\geq p_0$, or $H_0:p=p_0$, assuming $np_0$ and $n(1-p_0)$ are greater than 10.  \n",
    "  \n",
    "Compute the z-score: $z=\\frac{\\hat{p}-p_0}{\\sqrt{p_0(1-p_0)/n}}$  \n",
    "  \n",
    "Compute the P-value. The P-value is the area under the normal curve (the statistical test for large number of trials) which depends on the alternative hypothesis as follows:  \n",
    "\n",
    "| Alternate Hypothesis | P-value   |\n",
    "|------|------|\n",
    "|   $H_1:p>p_0$  | Area to the right of z|\n",
    "|   $H_1:p<p_0$  | Area to the left of z|\n",
    "|   $H_1:p\\neq p_0$  | Sum of the areas in the tails cut off by z and -z|\n",
    "\n"
   ]
  },
  {
   "cell_type": "markdown",
   "metadata": {},
   "source": [
    "### Example of area to the right of z"
   ]
  },
  {
   "cell_type": "markdown",
   "metadata": {},
   "source": [
    "In a sample of 67 students studying petroleum engineering, 45 said that field work improved their ability to handle unforeseen problems. Can we conclude that more than 65% of students find that field work improves their ability to handle unforeseen problems?"
   ]
  },
  {
   "cell_type": "markdown",
   "metadata": {},
   "source": [
    "$H_0:p\\leq 0.65$ vs. $H_1:p>0.65$  \n",
    "The sample proportion is $\\hat{p}=45/67=0.6716$. Under the null hypothesis, $\\hat{p}$ is normally distributed with mean of 0.65 and standard deviation of $\\sqrt{(0.65)(1-0.65)}=0.0583$"
   ]
  },
  {
   "cell_type": "markdown",
   "metadata": {},
   "source": [
    "#### Calculate z-score"
   ]
  },
  {
   "cell_type": "code",
   "execution_count": 16,
   "metadata": {},
   "outputs": [
    {
     "name": "stdout",
     "output_type": "stream",
     "text": [
      "The z-score is:  0.37068110758\n"
     ]
    }
   ],
   "source": [
    "n = 67\n",
    "p_0 = 0.65\n",
    "p_hat = 0.6716\n",
    "s = np.sqrt(p_0*(1-p_0))\n",
    "z_score = (p_hat-p_0)/(s/np.sqrt(n))\n",
    "print('The z-score is: ', z_score)"
   ]
  },
  {
   "cell_type": "markdown",
   "metadata": {},
   "source": [
    "#### Calculate P-value"
   ]
  },
  {
   "cell_type": "code",
   "execution_count": 17,
   "metadata": {},
   "outputs": [
    {
     "name": "stdout",
     "output_type": "stream",
     "text": [
      "The p-value is:  0.355437531705\n"
     ]
    }
   ],
   "source": [
    "p_value = ss.norm.sf(abs(z_score))\n",
    "print('The p-value is: ', p_value)"
   ]
  },
  {
   "cell_type": "markdown",
   "metadata": {},
   "source": [
    "We cannot conclude that more than 65% of students find that field work improves their ability to handle unforeseen problems."
   ]
  },
  {
   "cell_type": "code",
   "execution_count": 19,
   "metadata": {},
   "outputs": [],
   "source": [
    "def right_tail_plot(nd,X,mean,sd):\n",
    "    \n",
    "    x = np.linspace(mean-3*sd, mean+3*sd, 5000)\n",
    "    y_cdf = ss.norm.pdf(x,mean, sd)\n",
    "    plt.plot(x, y_cdf, label='cdf')\n",
    "    if X < mean:\n",
    "        lo = mean-3*sd\n",
    "        hi = X\n",
    "        lo2 = (mean-X)+mean\n",
    "        hi2 = mean+3*sd\n",
    "    else:\n",
    "        lo = mean-3*sd\n",
    "        hi = (mean-X)+mean\n",
    "        lo2 = X\n",
    "        hi2 = mean+3*sd\n",
    "    x = np.linspace(lo, hi, 5000)\n",
    "    x2 = np.linspace(lo2, hi2, 5000)\n",
    "    plt.fill_between(x2, nd.pdf(x2), y2=0, where= x2 >= lo2 , \\\n",
    "                     interpolate=False, \\\n",
    "                     color='blue', alpha = 0.2)"
   ]
  },
  {
   "cell_type": "code",
   "execution_count": 20,
   "metadata": {},
   "outputs": [
    {
     "data": {
      "image/png": "[encoded data removed]",
      "text/plain": [
       "<matplotlib.figure.Figure at 0x17afc187e10>"
      ]
     },
     "metadata": {},
     "output_type": "display_data"
    }
   ],
   "source": [
    "nd = ss.norm(p_0, s)\n",
    "right_tail_plot(nd,p_hat,p_0,s)\n",
    "plt.axvline(x=p_0, color='r')\n",
    "plt.axvline(x=p_hat, color='b')\n",
    "plt.annotate(p_hat, (p_hat+0.01,0),color='b')\n",
    "txt = 'P-value = ' + str(round(p_value,3))\n",
    "txt2 = 'z-score = ' + str(round(z_score,3))\n",
    "plt.annotate(txt, (0.5,6))\n",
    "plt.annotate(txt2, (0.5,5.5))\n",
    "plt.show()"
   ]
  },
  {
   "cell_type": "markdown",
   "metadata": {},
   "source": [
    "## Small-Sample tests for a population mean (n<30)"
   ]
  },
  {
   "cell_type": "markdown",
   "metadata": {},
   "source": [
    "Let $X_1 \\dots X_n$ be a sample from a small (e.g. n<30) *normal* population with mean $\\mu$ and standard deviation $\\sigma$, where $\\sigma$ is unknown.   \n",
    "To test a null hypothesis of the form $H_0:\\mu\\leq\\mu_0$, $H_0:\\mu\\geq\\mu_0$, or $H_0:\\mu=\\mu_0$  \n",
    "  \n",
    "Compute the t statistic: $t=\\frac{\\bar{X}-\\mu_0}{s/\\sqrt{n}}$  \n",
    " \n",
    "  \n",
    "Compute the P-value. The P-value is the area under the Student's t curve (the statistical test for small samples) with $n-1$ degrees of freedom which depends on the alternative hypothesis as follows:  \n",
    "\n",
    "| Alternate Hypothesis | P-value   |\n",
    "|------|------|\n",
    "|   $H_1:\\mu>\\mu_0$  | Area to the right of t|\n",
    "|   $H_1:\\mu<\\mu_0$  | Area to the left of t|\n",
    "|   $H_1:\\mu\\neq\\mu_0$  | Sum of the areas in the tails cut off by t and -t|\n",
    "  \n",
    "If $\\sigma$ is known do the z test instead like a large sample as shown above. "
   ]
  },
  {
   "cell_type": "markdown",
   "metadata": {},
   "source": [
    "### Two tailed t test example"
   ]
  },
  {
   "cell_type": "markdown",
   "metadata": {},
   "source": [
    "Drill collar spacers have a thickness specification of 38.98-39.02mm. The process is supposed to be calibrated to make a 39.00mm thickness. A sample of six collars is measured and obtained the following values 39.030, 38.997, 39.012, 39.008, 39.019, and 39.002. Assume the population of thicknesses should be normal. Can we conclude that the process needs to be recalibrated?  \n",
    "\n",
    "Testing $H_0:\\mu=39.00$ versus $H_1:\\mu\\neq 39.00$ "
   ]
  },
  {
   "cell_type": "markdown",
   "metadata": {},
   "source": [
    "#### Calculate t (DOF = n-1 = 6-1 = 5)"
   ]
  },
  {
   "cell_type": "code",
   "execution_count": 26,
   "metadata": {},
   "outputs": [
    {
     "name": "stdout",
     "output_type": "stream",
     "text": [
      "The t-score is:  2.32745723261\n"
     ]
    }
   ],
   "source": [
    "xs = [39.030, 38.997, 39.012, 39.008, 39.019, 39.002]\n",
    "n = len(xs)\n",
    "dof = n-1\n",
    "mu_0 = 39.00\n",
    "x_bar = np.mean(xs)\n",
    "s = np.std(xs,ddof=n-dof)\n",
    "t_score = (x_bar-mu_0)/(s/np.sqrt(n))\n",
    "print('The t-score is: ', t_score)"
   ]
  },
  {
   "cell_type": "markdown",
   "metadata": {},
   "source": [
    "#### Calculate two tailed p-value and find areas under the curves"
   ]
  },
  {
   "cell_type": "code",
   "execution_count": 27,
   "metadata": {},
   "outputs": [
    {
     "name": "stdout",
     "output_type": "stream",
     "text": [
      "The p-value is:  0.355437531705\n"
     ]
    }
   ],
   "source": [
    "p_valuie = 2*ss.t.sf(abs(t_score),dof)\n",
    "print('The p-value is: ', p_value)"
   ]
  },
  {
   "cell_type": "markdown",
   "metadata": {},
   "source": [
    "The p-value lands between 0.05 and 0.1, therefore it isn't conclusive that the machine is out of calibration, but there is reason to have doubts because it is greater than 0.05. This would prescribe further sampling."
   ]
  },
  {
   "cell_type": "code",
   "execution_count": 37,
   "metadata": {},
   "outputs": [
    {
     "data": {
      "image/png": "[encoded data removed]",
      "text/plain": [
       "<matplotlib.figure.Figure at 0x17afbf12518>"
      ]
     },
     "metadata": {},
     "output_type": "display_data"
    }
   ],
   "source": [
    "nd = ss.norm(mu_0, s)\n",
    "two_tails_plot(nd,x_bar,mu_0,s)\n",
    "plt.axvline(x=x_bar, color='b')\n",
    "plt.axvline(x=mu_0-(x_bar-mu_0), color='b')\n",
    "plt.axvline(x=38.98, ymin=0, ymax=.25, color='r')\n",
    "plt.axvline(x=39.02, ymin=0, ymax=.25,color='r')\n",
    "txt = 'P-value = ' + str(round(p_value,3))\n",
    "txt2 = 't-score = ' + str(round(t_score,3))\n",
    "plt.annotate(txt, (38.965,30))\n",
    "plt.annotate(txt2, (38.965,25))\n",
    "plt.show()"
   ]
  },
  {
   "cell_type": "markdown",
   "metadata": {},
   "source": [
    "## Large-sample Tests for the Difference between two means"
   ]
  },
  {
   "cell_type": "markdown",
   "metadata": {},
   "source": [
    "Let $X_1 \\dots X_n$ and $Y_1 \\dots Y_n$ be a large (e.g. $n_X>30$ and $n_Y>30$) samples from populations with means $\\mu_X$ and $\\mu_Y$ and standard deviations of $\\sigma_X$ and $\\sigma_Y$. Assume the samples are drawn independently of each other.   \n",
    "To test a null hypothesis of the form $H_0:\\mu_X-\\mu_Y\\leq\\Delta_0$, $H_0:\\mu_X-\\mu_Y\\geq\\Delta_0$, or $H_0:\\mu_X-\\mu_Y=\\Delta_0$  \n",
    "  \n",
    "Compute the z-score: $z=\\frac{(\\bar{X}-\\bar{Y})-\\Delta_0}{\\sqrt{\\sigma_X^2/n_X+\\sigma_Y^2/n_Y}}$  \n",
    "If $\\sigma_X$ and $\\sigma_Y$ are unknown they may be approximated with $s_X$ and $x_Y$ respectively.  \n",
    "  \n",
    "Compute the P-value. The P-value is the area under the normal curve (the statistical test for large populations) which depends on the alternative hypothesis as follows:  \n",
    "\n",
    "| Alternate Hypothesis | P-value   |\n",
    "|------|------|\n",
    "|   $H_1:\\mu_X-\\mu_Y>\\Delta_0$  | Area to the right of z|\n",
    "|   $H_1:\\mu_X-\\mu_Y<\\Delta_0$  | Area to the left of z|\n",
    "|   $H_1:\\mu_X-\\mu_Y\\neq\\Delta_0$  | Sum of the areas in the tails cut off by z and -z|"
   ]
  },
  {
   "cell_type": "markdown",
   "metadata": {},
   "source": [
    "### Example of two-tailed mean comparison\n",
    "Two different core samples are collected from a field. Pore sizes are measured to find the diameters. **Core A** gave 544 samples with average diameter of $0.37\\mu m$ with a standard deviation of $0.25\\mu m$. **Core B** gave 581 samples with average diameter of $0.40\\mu m$ with a standard deviation of $0.26\\mu m$.  \n",
    "  \n",
    "Can you conclude that the mean diameters of the pores differ between the two cores?"
   ]
  },
  {
   "cell_type": "markdown",
   "metadata": {},
   "source": [
    "#### Form the hypothesis"
   ]
  },
  {
   "cell_type": "markdown",
   "metadata": {},
   "source": [
    "$H_0:\\mu_X-\\mu_Y=0$ versus $H_1:\\mu_X-\\mu_Y\\neq0$ "
   ]
  },
  {
   "cell_type": "code",
   "execution_count": 29,
   "metadata": {},
   "outputs": [],
   "source": [
    "n_x = 544\n",
    "n_y = 581\n",
    "mu_x = .37\n",
    "mu_y = .40\n",
    "s_x = .25\n",
    "s_y = .26"
   ]
  },
  {
   "cell_type": "code",
   "execution_count": 30,
   "metadata": {},
   "outputs": [
    {
     "name": "stdout",
     "output_type": "stream",
     "text": [
      "The difference is: -0.030000000000000027\n"
     ]
    }
   ],
   "source": [
    "diff = mu_x-mu_y\n",
    "print('The difference is:', diff)"
   ]
  },
  {
   "cell_type": "code",
   "execution_count": 31,
   "metadata": {},
   "outputs": [
    {
     "name": "stdout",
     "output_type": "stream",
     "text": [
      "The standard deviation of means is: 0.0152066046389\n"
     ]
    }
   ],
   "source": [
    "sdev = np.sqrt(s_x**2/n_x+s_y**2/n_y)\n",
    "print('The standard deviation of means is:',sdev)"
   ]
  },
  {
   "cell_type": "markdown",
   "metadata": {},
   "source": [
    " Calculate the z-score"
   ]
  },
  {
   "cell_type": "code",
   "execution_count": 32,
   "metadata": {},
   "outputs": [
    {
     "name": "stdout",
     "output_type": "stream",
     "text": [
      "The z_score is: -1.9728269862\n"
     ]
    }
   ],
   "source": [
    "z_score = (diff-0)/sdev\n",
    "print('The z_score is:', z_score)"
   ]
  },
  {
   "cell_type": "markdown",
   "metadata": {},
   "source": [
    "#### Calculate P-value"
   ]
  },
  {
   "cell_type": "code",
   "execution_count": 34,
   "metadata": {},
   "outputs": [
    {
     "name": "stdout",
     "output_type": "stream",
     "text": [
      "The p-value is:  0.0485152774649\n"
     ]
    }
   ],
   "source": [
    "p_value = 2*ss.norm.sf(abs(z_score))\n",
    "print('The p-value is: ', p_value)"
   ]
  },
  {
   "cell_type": "markdown",
   "metadata": {},
   "source": [
    "Following the 0.05 rule, we are correct in being skeptical about the truth of the Null hypothesis, thus we reject it."
   ]
  },
  {
   "cell_type": "code",
   "execution_count": null,
   "metadata": {},
   "outputs": [],
   "source": []
  }
 ],
 "metadata": {
  "kernelspec": {
   "display_name": "Python 3",
   "language": "python",
   "name": "python3"
  },
  "language_info": {
   "codemirror_mode": {
    "name": "ipython",
    "version": 3
   },
   "file_extension": ".py",
   "mimetype": "text/x-python",
   "name": "python",
   "nbconvert_exporter": "python",
   "pygments_lexer": "ipython3",
   "version": "3.6.3"
  }
 },
 "nbformat": 4,
 "nbformat_minor": 2
}
